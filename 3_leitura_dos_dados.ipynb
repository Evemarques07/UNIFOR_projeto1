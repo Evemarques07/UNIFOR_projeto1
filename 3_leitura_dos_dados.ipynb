{
 "cells": [
  {
   "cell_type": "markdown",
   "metadata": {},
   "source": [
    "# Leitura e Visualização dos Datasets\n",
    "\n",
    "Este notebook realiza a leitura de todos os datasets gerados e exibe informações sobre cada um."
   ]
  },
  {
   "cell_type": "code",
   "execution_count": null,
   "metadata": {},
   "outputs": [],
   "source": [
    "import pandas as pd\n",
    "import os\n",
    "\n",
    "# Definir o diretório dos datasets\n",
    "datasets_dir = os.path.join(os.getcwd(), 'datasets')"
   ]
  },
  {
   "cell_type": "markdown",
   "metadata": {},
   "source": [
    "## 1. Dataset Titanic"
   ]
  },
  {
   "cell_type": "code",
   "execution_count": null,
   "metadata": {},
   "outputs": [],
   "source": [
    "# Carregar dataset Titanic\n",
    "titanic_df = pd.read_csv(os.path.join(datasets_dir, 'titanic.csv'))\n",
    "\n",
    "print(\"=\" * 60)\n",
    "print(\"DATASET TITANIC\")\n",
    "print(\"=\" * 60)\n",
    "print(f\"\\nDimensões: {titanic_df.shape[0]} linhas x {titanic_df.shape[1]} colunas\\n\")\n",
    "\n",
    "print(\"Primeiras 10 linhas:\")\n",
    "display(titanic_df.head(10))\n",
    "\n",
    "print(\"\\nInformações do dataset:\")\n",
    "titanic_df.info()\n",
    "\n",
    "print(\"\\nEstatísticas descritivas:\")\n",
    "display(titanic_df.describe())"
   ]
  },
  {
   "cell_type": "markdown",
   "metadata": {},
   "source": [
    "## 2. Dataset Vendas"
   ]
  },
  {
   "cell_type": "code",
   "execution_count": null,
   "metadata": {},
   "outputs": [],
   "source": [
    "# Carregar dataset Vendas\n",
    "vendas_df = pd.read_csv(os.path.join(datasets_dir, 'vendas.csv'))\n",
    "\n",
    "print(\"=\" * 60)\n",
    "print(\"DATASET VENDAS\")\n",
    "print(\"=\" * 60)\n",
    "print(f\"\\nDimensões: {vendas_df.shape[0]} linhas x {vendas_df.shape[1]} colunas\\n\")\n",
    "\n",
    "print(\"Primeiras 10 linhas:\")\n",
    "display(vendas_df.head(10))\n",
    "\n",
    "print(\"\\nInformações do dataset:\")\n",
    "vendas_df.info()\n",
    "\n",
    "print(\"\\nEstatísticas descritivas:\")\n",
    "display(vendas_df.describe())"
   ]
  },
  {
   "cell_type": "markdown",
   "metadata": {},
   "source": [
    "## 3. Dataset IBGE População"
   ]
  },
  {
   "cell_type": "code",
   "execution_count": null,
   "metadata": {},
   "outputs": [],
   "source": [
    "# Carregar dataset IBGE População\n",
    "ibge_df = pd.read_csv(os.path.join(datasets_dir, 'ibge_populacao.csv'))\n",
    "\n",
    "print(\"=\" * 60)\n",
    "print(\"DATASET IBGE POPULAÇÃO\")\n",
    "print(\"=\" * 60)\n",
    "print(f\"\\nDimensões: {ibge_df.shape[0]} linhas x {ibge_df.shape[1]} colunas\\n\")\n",
    "\n",
    "print(\"Primeiras 10 linhas:\")\n",
    "display(ibge_df.head(10))\n",
    "\n",
    "print(\"\\nInformações do dataset:\")\n",
    "ibge_df.info()\n",
    "\n",
    "print(\"\\nEstatísticas descritivas:\")\n",
    "display(ibge_df.describe())"
   ]
  },
  {
   "cell_type": "markdown",
   "metadata": {},
   "source": [
    "## 4. Dataset COVID"
   ]
  },
  {
   "cell_type": "code",
   "execution_count": null,
   "metadata": {},
   "outputs": [],
   "source": [
    "# Carregar dataset COVID\n",
    "covid_df = pd.read_csv(os.path.join(datasets_dir, 'covid.csv'))\n",
    "\n",
    "print(\"=\" * 60)\n",
    "print(\"DATASET COVID\")\n",
    "print(\"=\" * 60)\n",
    "print(f\"\\nDimensões: {covid_df.shape[0]} linhas x {covid_df.shape[1]} colunas\\n\")\n",
    "\n",
    "print(\"Primeiras 10 linhas:\")\n",
    "display(covid_df.head(10))\n",
    "\n",
    "print(\"\\nInformações do dataset:\")\n",
    "covid_df.info()\n",
    "\n",
    "print(\"\\nEstatísticas descritivas:\")\n",
    "display(covid_df.describe())"
   ]
  },
  {
   "cell_type": "markdown",
   "metadata": {},
   "source": [
    "## 5. Dataset Filmes"
   ]
  },
  {
   "cell_type": "code",
   "execution_count": null,
   "metadata": {},
   "outputs": [],
   "source": [
    "# Carregar dataset Filmes\n",
    "filmes_df = pd.read_csv(os.path.join(datasets_dir, 'filmes.csv'))\n",
    "\n",
    "print(\"=\" * 60)\n",
    "print(\"DATASET FILMES\")\n",
    "print(\"=\" * 60)\n",
    "print(f\"\\nDimensões: {filmes_df.shape[0]} linhas x {filmes_df.shape[1]} colunas\\n\")\n",
    "\n",
    "print(\"Primeiras 10 linhas:\")\n",
    "display(filmes_df.head(10))\n",
    "\n",
    "print(\"\\nInformações do dataset:\")\n",
    "filmes_df.info()\n",
    "\n",
    "print(\"\\nEstatísticas descritivas:\")\n",
    "display(filmes_df.describe())"
   ]
  },
  {
   "cell_type": "markdown",
   "metadata": {},
   "source": [
    "## Resumo Geral dos Datasets"
   ]
  },
  {
   "cell_type": "code",
   "execution_count": null,
   "metadata": {},
   "outputs": [],
   "source": [
    "# Criar um resumo de todos os datasets\n",
    "resumo = pd.DataFrame({\n",
    "    'Dataset': ['Titanic', 'Vendas', 'IBGE População', 'COVID', 'Filmes'],\n",
    "    'Linhas': [\n",
    "        titanic_df.shape[0],\n",
    "        vendas_df.shape[0],\n",
    "        ibge_df.shape[0],\n",
    "        covid_df.shape[0],\n",
    "        filmes_df.shape[0]\n",
    "    ],\n",
    "    'Colunas': [\n",
    "        titanic_df.shape[1],\n",
    "        vendas_df.shape[1],\n",
    "        ibge_df.shape[1],\n",
    "        covid_df.shape[1],\n",
    "        filmes_df.shape[1]\n",
    "    ]\n",
    "})\n",
    "\n",
    "print(\"\\n\" + \"=\" * 60)\n",
    "print(\"RESUMO GERAL DOS DATASETS\")\n",
    "print(\"=\" * 60 + \"\\n\")\n",
    "display(resumo)"
   ]
  }
 ],
 "metadata": {
  "kernelspec": {
   "display_name": "Python 3",
   "language": "python",
   "name": "python3"
  },
  "language_info": {
   "codemirror_mode": {
    "name": "ipython",
    "version": 3
   },
   "file_extension": ".py",
   "mimetype": "text/x-python",
   "name": "python",
   "nbconvert_exporter": "python",
   "pygments_lexer": "ipython3",
   "version": "3.8.0"
  }
 },
 "nbformat": 4,
 "nbformat_minor": 4
}
